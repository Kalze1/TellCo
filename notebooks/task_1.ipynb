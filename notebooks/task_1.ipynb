{
 "cells": [
  {
   "cell_type": "code",
   "execution_count": null,
   "metadata": {},
   "outputs": [],
   "source": [
    "import os\n",
    "os.chdir(\"../\")\n"
   ]
  },
  {
   "cell_type": "code",
   "execution_count": null,
   "metadata": {},
   "outputs": [],
   "source": [
    "from scripts.load_data import load_df\n",
    "df = load_df()"
   ]
  },
  {
   "cell_type": "code",
   "execution_count": 5,
   "metadata": {},
   "outputs": [],
   "source": [
    "from scripts.preprocessing import count_missing_values, replace_missing_with_mean, replce_messing_with_median, count_outliers, replace_outliers_with_quartile\n",
    "\n",
    "mv = count_missing_values(df)\n",
    "columns = ['Bearer Id', 'Start ms', 'End ms', 'Dur. (ms)', 'IMSI',\n",
    "       'MSISDN/Number', 'IMEI', 'Avg RTT DL (ms)',\n",
    "       'Avg RTT UL (ms)', 'Avg Bearer TP DL (kbps)', 'Avg Bearer TP UL (kbps)',\n",
    "       'TCP DL Retrans. Vol (Bytes)', 'TCP UL Retrans. Vol (Bytes)',\n",
    "       'DL TP < 50 Kbps (%)', '50 Kbps < DL TP < 250 Kbps (%)',\n",
    "       '250 Kbps < DL TP < 1 Mbps (%)', 'DL TP > 1 Mbps (%)',\n",
    "       'UL TP < 10 Kbps (%)', '10 Kbps < UL TP < 50 Kbps (%)',\n",
    "       '50 Kbps < UL TP < 300 Kbps (%)', 'UL TP > 300 Kbps (%)',\n",
    "       'HTTP DL (Bytes)', 'HTTP UL (Bytes)', 'Activity Duration DL (ms)',\n",
    "       'Activity Duration UL (ms)', 'Dur. (ms).1'\n",
    "       , 'Nb of sec with 125000B < Vol DL',\n",
    "       'Nb of sec with 1250B < Vol UL < 6250B',\n",
    "       'Nb of sec with 31250B < Vol DL < 125000B',\n",
    "       'Nb of sec with 37500B < Vol UL',\n",
    "       'Nb of sec with 6250B < Vol DL < 31250B',\n",
    "       'Nb of sec with 6250B < Vol UL < 37500B',\n",
    "       'Nb of sec with Vol DL < 6250B', 'Nb of sec with Vol UL < 1250B',\n",
    "       'Social Media DL (Bytes)', 'Social Media UL (Bytes)',\n",
    "       'Google DL (Bytes)', 'Google UL (Bytes)', 'Email DL (Bytes)',\n",
    "       'Email UL (Bytes)', 'Youtube DL (Bytes)', 'Youtube UL (Bytes)',\n",
    "       'Netflix DL (Bytes)', 'Netflix UL (Bytes)', 'Gaming DL (Bytes)',\n",
    "       'Gaming UL (Bytes)', 'Other DL (Bytes)', 'Other UL (Bytes)',\n",
    "       'Total UL (Bytes)', 'Total DL (Bytes)']\n",
    "\n",
    "\n",
    "df=replace_outliers_with_quartile(df,columns)\n",
    "\n",
    "df = replace_missing_with_mean(df, \"TCP DL Retrans. Vol (Bytes)\")\n",
    "\n"
   ]
  },
  {
   "cell_type": "code",
   "execution_count": null,
   "metadata": {},
   "outputs": [],
   "source": [
    "\n"
   ]
  }
 ],
 "metadata": {
  "kernelspec": {
   "display_name": "TellCoenv",
   "language": "python",
   "name": "python3"
  },
  "language_info": {
   "codemirror_mode": {
    "name": "ipython",
    "version": 3
   },
   "file_extension": ".py",
   "mimetype": "text/x-python",
   "name": "python",
   "nbconvert_exporter": "python",
   "pygments_lexer": "ipython3",
   "version": "3.12.5"
  }
 },
 "nbformat": 4,
 "nbformat_minor": 2
}
